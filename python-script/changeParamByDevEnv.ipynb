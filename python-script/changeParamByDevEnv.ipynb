{
 "cells": [
  {
   "cell_type": "code",
   "execution_count": 1,
   "metadata": {},
   "outputs": [],
   "source": [
    "#根据开发环境，变更运行参数，主要是在252和笔记本之间切换\n",
    "import pymysql.cursors"
   ]
  },
  {
   "cell_type": "code",
   "execution_count": 2,
   "metadata": {},
   "outputs": [],
   "source": [
    "import os"
   ]
  },
  {
   "cell_type": "code",
   "execution_count": 4,
   "metadata": {},
   "outputs": [],
   "source": [
    "# 连接数据库operplatform,修改权限中心相关参数\n",
    "connect1 = pymysql.Connect(\n",
    "    host='10.0.3.252',\n",
    "    port=3306,\n",
    "    user='operplatform',\n",
    "    passwd='123456',\n",
    "    db='operplatform',\n",
    "    charset='utf8'\n",
    ")"
   ]
  },
  {
   "cell_type": "code",
   "execution_count": 5,
   "metadata": {},
   "outputs": [],
   "source": [
    "# 获取游标\n",
    "cursor1 = connect1.cursor()"
   ]
  },
  {
   "cell_type": "code",
   "execution_count": 6,
   "metadata": {},
   "outputs": [],
   "source": [
    "# 连接数据库taskplatform,修改本系统相关参数\n",
    "connect2 = pymysql.Connect(\n",
    "    host='10.0.3.252',\n",
    "    port=3306,\n",
    "    user='taskplatform',\n",
    "    passwd='123456',\n",
    "    db='taskplatform',\n",
    "    charset='utf8'\n",
    ")"
   ]
  },
  {
   "cell_type": "code",
   "execution_count": 7,
   "metadata": {},
   "outputs": [],
   "source": [
    "# 获取游标\n",
    "cursor2 = connect2.cursor()"
   ]
  },
  {
   "cell_type": "code",
   "execution_count": 8,
   "metadata": {},
   "outputs": [],
   "source": [
    "#1--笔记本，2--252, 3--xxx(发布)\n",
    "devEnv=1\n",
    "\n",
    "if devEnv==1:\n",
    "    pass\n",
    "elif devEnv==2:\n",
    "    pass\n",
    "else:\n",
    "    pass\n",
    "\n",
    "if devEnv==1:\n",
    "    basepath = 'C:/Users/chc51/Documents/NetBeansProjects/taskplatform/src/main/resources/'\n",
    "elif devEnv==2:\n",
    "    basepath = '/root/NetBeansProjects/taskplatform/src/main/resources/'\n",
    "else:\n",
    "    pass"
   ]
  },
  {
   "cell_type": "code",
   "execution_count": 9,
   "metadata": {},
   "outputs": [
    {
     "ename": "OperationalError",
     "evalue": "(2013, 'Lost connection to MySQL server during query ([WinError 10060] 由于连接方在一段时间后没有正确答复或连接的主机没有反应，连接尝试失败。)')",
     "output_type": "error",
     "traceback": [
      "\u001b[1;31m---------------------------------------------------------------------------\u001b[0m",
      "\u001b[1;31mTimeoutError\u001b[0m                              Traceback (most recent call last)",
      "\u001b[1;32m~\\Anaconda3\\lib\\site-packages\\pymysql\\connections.py\u001b[0m in \u001b[0;36m_read_bytes\u001b[1;34m(self, num_bytes)\u001b[0m\n\u001b[0;32m   1024\u001b[0m             \u001b[1;32mtry\u001b[0m\u001b[1;33m:\u001b[0m\u001b[1;33m\u001b[0m\u001b[0m\n\u001b[1;32m-> 1025\u001b[1;33m                 \u001b[0mdata\u001b[0m \u001b[1;33m=\u001b[0m \u001b[0mself\u001b[0m\u001b[1;33m.\u001b[0m\u001b[0m_rfile\u001b[0m\u001b[1;33m.\u001b[0m\u001b[0mread\u001b[0m\u001b[1;33m(\u001b[0m\u001b[0mnum_bytes\u001b[0m\u001b[1;33m)\u001b[0m\u001b[1;33m\u001b[0m\u001b[0m\n\u001b[0m\u001b[0;32m   1026\u001b[0m                 \u001b[1;32mbreak\u001b[0m\u001b[1;33m\u001b[0m\u001b[0m\n",
      "\u001b[1;32m~\\Anaconda3\\lib\\socket.py\u001b[0m in \u001b[0;36mreadinto\u001b[1;34m(self, b)\u001b[0m\n\u001b[0;32m    585\u001b[0m             \u001b[1;32mtry\u001b[0m\u001b[1;33m:\u001b[0m\u001b[1;33m\u001b[0m\u001b[0m\n\u001b[1;32m--> 586\u001b[1;33m                 \u001b[1;32mreturn\u001b[0m \u001b[0mself\u001b[0m\u001b[1;33m.\u001b[0m\u001b[0m_sock\u001b[0m\u001b[1;33m.\u001b[0m\u001b[0mrecv_into\u001b[0m\u001b[1;33m(\u001b[0m\u001b[0mb\u001b[0m\u001b[1;33m)\u001b[0m\u001b[1;33m\u001b[0m\u001b[0m\n\u001b[0m\u001b[0;32m    587\u001b[0m             \u001b[1;32mexcept\u001b[0m \u001b[0mtimeout\u001b[0m\u001b[1;33m:\u001b[0m\u001b[1;33m\u001b[0m\u001b[0m\n",
      "\u001b[1;31mTimeoutError\u001b[0m: [WinError 10060] 由于连接方在一段时间后没有正确答复或连接的主机没有反应，连接尝试失败。",
      "\nDuring handling of the above exception, another exception occurred:\n",
      "\u001b[1;31mOperationalError\u001b[0m                          Traceback (most recent call last)",
      "\u001b[1;32m<ipython-input-9-ef0cf383bf62>\u001b[0m in \u001b[0;36m<module>\u001b[1;34m()\u001b[0m\n\u001b[0;32m      8\u001b[0m     \u001b[1;32mpass\u001b[0m\u001b[1;33m\u001b[0m\u001b[0m\n\u001b[0;32m      9\u001b[0m \u001b[1;33m\u001b[0m\u001b[0m\n\u001b[1;32m---> 10\u001b[1;33m \u001b[0mcursor1\u001b[0m\u001b[1;33m.\u001b[0m\u001b[0mexecute\u001b[0m\u001b[1;33m(\u001b[0m\u001b[0msql\u001b[0m \u001b[1;33m%\u001b[0m \u001b[0mdata\u001b[0m\u001b[1;33m)\u001b[0m\u001b[1;33m\u001b[0m\u001b[0m\n\u001b[0m\u001b[0;32m     11\u001b[0m \u001b[0mconnect1\u001b[0m\u001b[1;33m.\u001b[0m\u001b[0mcommit\u001b[0m\u001b[1;33m(\u001b[0m\u001b[1;33m)\u001b[0m\u001b[1;33m\u001b[0m\u001b[0m\n\u001b[0;32m     12\u001b[0m \u001b[0mprint\u001b[0m\u001b[1;33m(\u001b[0m\u001b[1;34m'成功修改'\u001b[0m\u001b[1;33m,\u001b[0m \u001b[0mcursor1\u001b[0m\u001b[1;33m.\u001b[0m\u001b[0mrowcount\u001b[0m\u001b[1;33m,\u001b[0m \u001b[1;34m'条数据'\u001b[0m\u001b[1;33m)\u001b[0m\u001b[1;33m\u001b[0m\u001b[0m\n",
      "\u001b[1;32m~\\Anaconda3\\lib\\site-packages\\pymysql\\cursors.py\u001b[0m in \u001b[0;36mexecute\u001b[1;34m(self, query, args)\u001b[0m\n\u001b[0;32m    163\u001b[0m         \u001b[0mquery\u001b[0m \u001b[1;33m=\u001b[0m \u001b[0mself\u001b[0m\u001b[1;33m.\u001b[0m\u001b[0mmogrify\u001b[0m\u001b[1;33m(\u001b[0m\u001b[0mquery\u001b[0m\u001b[1;33m,\u001b[0m \u001b[0margs\u001b[0m\u001b[1;33m)\u001b[0m\u001b[1;33m\u001b[0m\u001b[0m\n\u001b[0;32m    164\u001b[0m \u001b[1;33m\u001b[0m\u001b[0m\n\u001b[1;32m--> 165\u001b[1;33m         \u001b[0mresult\u001b[0m \u001b[1;33m=\u001b[0m \u001b[0mself\u001b[0m\u001b[1;33m.\u001b[0m\u001b[0m_query\u001b[0m\u001b[1;33m(\u001b[0m\u001b[0mquery\u001b[0m\u001b[1;33m)\u001b[0m\u001b[1;33m\u001b[0m\u001b[0m\n\u001b[0m\u001b[0;32m    166\u001b[0m         \u001b[0mself\u001b[0m\u001b[1;33m.\u001b[0m\u001b[0m_executed\u001b[0m \u001b[1;33m=\u001b[0m \u001b[0mquery\u001b[0m\u001b[1;33m\u001b[0m\u001b[0m\n\u001b[0;32m    167\u001b[0m         \u001b[1;32mreturn\u001b[0m \u001b[0mresult\u001b[0m\u001b[1;33m\u001b[0m\u001b[0m\n",
      "\u001b[1;32m~\\Anaconda3\\lib\\site-packages\\pymysql\\cursors.py\u001b[0m in \u001b[0;36m_query\u001b[1;34m(self, q)\u001b[0m\n\u001b[0;32m    319\u001b[0m         \u001b[0mconn\u001b[0m \u001b[1;33m=\u001b[0m \u001b[0mself\u001b[0m\u001b[1;33m.\u001b[0m\u001b[0m_get_db\u001b[0m\u001b[1;33m(\u001b[0m\u001b[1;33m)\u001b[0m\u001b[1;33m\u001b[0m\u001b[0m\n\u001b[0;32m    320\u001b[0m         \u001b[0mself\u001b[0m\u001b[1;33m.\u001b[0m\u001b[0m_last_executed\u001b[0m \u001b[1;33m=\u001b[0m \u001b[0mq\u001b[0m\u001b[1;33m\u001b[0m\u001b[0m\n\u001b[1;32m--> 321\u001b[1;33m         \u001b[0mconn\u001b[0m\u001b[1;33m.\u001b[0m\u001b[0mquery\u001b[0m\u001b[1;33m(\u001b[0m\u001b[0mq\u001b[0m\u001b[1;33m)\u001b[0m\u001b[1;33m\u001b[0m\u001b[0m\n\u001b[0m\u001b[0;32m    322\u001b[0m         \u001b[0mself\u001b[0m\u001b[1;33m.\u001b[0m\u001b[0m_do_get_result\u001b[0m\u001b[1;33m(\u001b[0m\u001b[1;33m)\u001b[0m\u001b[1;33m\u001b[0m\u001b[0m\n\u001b[0;32m    323\u001b[0m         \u001b[1;32mreturn\u001b[0m \u001b[0mself\u001b[0m\u001b[1;33m.\u001b[0m\u001b[0mrowcount\u001b[0m\u001b[1;33m\u001b[0m\u001b[0m\n",
      "\u001b[1;32m~\\Anaconda3\\lib\\site-packages\\pymysql\\connections.py\u001b[0m in \u001b[0;36mquery\u001b[1;34m(self, sql, unbuffered)\u001b[0m\n\u001b[0;32m    858\u001b[0m                 \u001b[0msql\u001b[0m \u001b[1;33m=\u001b[0m \u001b[0msql\u001b[0m\u001b[1;33m.\u001b[0m\u001b[0mencode\u001b[0m\u001b[1;33m(\u001b[0m\u001b[0mself\u001b[0m\u001b[1;33m.\u001b[0m\u001b[0mencoding\u001b[0m\u001b[1;33m,\u001b[0m \u001b[1;34m'surrogateescape'\u001b[0m\u001b[1;33m)\u001b[0m\u001b[1;33m\u001b[0m\u001b[0m\n\u001b[0;32m    859\u001b[0m         \u001b[0mself\u001b[0m\u001b[1;33m.\u001b[0m\u001b[0m_execute_command\u001b[0m\u001b[1;33m(\u001b[0m\u001b[0mCOMMAND\u001b[0m\u001b[1;33m.\u001b[0m\u001b[0mCOM_QUERY\u001b[0m\u001b[1;33m,\u001b[0m \u001b[0msql\u001b[0m\u001b[1;33m)\u001b[0m\u001b[1;33m\u001b[0m\u001b[0m\n\u001b[1;32m--> 860\u001b[1;33m         \u001b[0mself\u001b[0m\u001b[1;33m.\u001b[0m\u001b[0m_affected_rows\u001b[0m \u001b[1;33m=\u001b[0m \u001b[0mself\u001b[0m\u001b[1;33m.\u001b[0m\u001b[0m_read_query_result\u001b[0m\u001b[1;33m(\u001b[0m\u001b[0munbuffered\u001b[0m\u001b[1;33m=\u001b[0m\u001b[0munbuffered\u001b[0m\u001b[1;33m)\u001b[0m\u001b[1;33m\u001b[0m\u001b[0m\n\u001b[0m\u001b[0;32m    861\u001b[0m         \u001b[1;32mreturn\u001b[0m \u001b[0mself\u001b[0m\u001b[1;33m.\u001b[0m\u001b[0m_affected_rows\u001b[0m\u001b[1;33m\u001b[0m\u001b[0m\n\u001b[0;32m    862\u001b[0m \u001b[1;33m\u001b[0m\u001b[0m\n",
      "\u001b[1;32m~\\Anaconda3\\lib\\site-packages\\pymysql\\connections.py\u001b[0m in \u001b[0;36m_read_query_result\u001b[1;34m(self, unbuffered)\u001b[0m\n\u001b[0;32m   1059\u001b[0m         \u001b[1;32melse\u001b[0m\u001b[1;33m:\u001b[0m\u001b[1;33m\u001b[0m\u001b[0m\n\u001b[0;32m   1060\u001b[0m             \u001b[0mresult\u001b[0m \u001b[1;33m=\u001b[0m \u001b[0mMySQLResult\u001b[0m\u001b[1;33m(\u001b[0m\u001b[0mself\u001b[0m\u001b[1;33m)\u001b[0m\u001b[1;33m\u001b[0m\u001b[0m\n\u001b[1;32m-> 1061\u001b[1;33m             \u001b[0mresult\u001b[0m\u001b[1;33m.\u001b[0m\u001b[0mread\u001b[0m\u001b[1;33m(\u001b[0m\u001b[1;33m)\u001b[0m\u001b[1;33m\u001b[0m\u001b[0m\n\u001b[0m\u001b[0;32m   1062\u001b[0m         \u001b[0mself\u001b[0m\u001b[1;33m.\u001b[0m\u001b[0m_result\u001b[0m \u001b[1;33m=\u001b[0m \u001b[0mresult\u001b[0m\u001b[1;33m\u001b[0m\u001b[0m\n\u001b[0;32m   1063\u001b[0m         \u001b[1;32mif\u001b[0m \u001b[0mresult\u001b[0m\u001b[1;33m.\u001b[0m\u001b[0mserver_status\u001b[0m \u001b[1;32mis\u001b[0m \u001b[1;32mnot\u001b[0m \u001b[1;32mNone\u001b[0m\u001b[1;33m:\u001b[0m\u001b[1;33m\u001b[0m\u001b[0m\n",
      "\u001b[1;32m~\\Anaconda3\\lib\\site-packages\\pymysql\\connections.py\u001b[0m in \u001b[0;36mread\u001b[1;34m(self)\u001b[0m\n\u001b[0;32m   1347\u001b[0m     \u001b[1;32mdef\u001b[0m \u001b[0mread\u001b[0m\u001b[1;33m(\u001b[0m\u001b[0mself\u001b[0m\u001b[1;33m)\u001b[0m\u001b[1;33m:\u001b[0m\u001b[1;33m\u001b[0m\u001b[0m\n\u001b[0;32m   1348\u001b[0m         \u001b[1;32mtry\u001b[0m\u001b[1;33m:\u001b[0m\u001b[1;33m\u001b[0m\u001b[0m\n\u001b[1;32m-> 1349\u001b[1;33m             \u001b[0mfirst_packet\u001b[0m \u001b[1;33m=\u001b[0m \u001b[0mself\u001b[0m\u001b[1;33m.\u001b[0m\u001b[0mconnection\u001b[0m\u001b[1;33m.\u001b[0m\u001b[0m_read_packet\u001b[0m\u001b[1;33m(\u001b[0m\u001b[1;33m)\u001b[0m\u001b[1;33m\u001b[0m\u001b[0m\n\u001b[0m\u001b[0;32m   1350\u001b[0m \u001b[1;33m\u001b[0m\u001b[0m\n\u001b[0;32m   1351\u001b[0m             \u001b[1;32mif\u001b[0m \u001b[0mfirst_packet\u001b[0m\u001b[1;33m.\u001b[0m\u001b[0mis_ok_packet\u001b[0m\u001b[1;33m(\u001b[0m\u001b[1;33m)\u001b[0m\u001b[1;33m:\u001b[0m\u001b[1;33m\u001b[0m\u001b[0m\n",
      "\u001b[1;32m~\\Anaconda3\\lib\\site-packages\\pymysql\\connections.py\u001b[0m in \u001b[0;36m_read_packet\u001b[1;34m(self, packet_type)\u001b[0m\n\u001b[0;32m    989\u001b[0m         \u001b[0mbuff\u001b[0m \u001b[1;33m=\u001b[0m \u001b[1;34mb''\u001b[0m\u001b[1;33m\u001b[0m\u001b[0m\n\u001b[0;32m    990\u001b[0m         \u001b[1;32mwhile\u001b[0m \u001b[1;32mTrue\u001b[0m\u001b[1;33m:\u001b[0m\u001b[1;33m\u001b[0m\u001b[0m\n\u001b[1;32m--> 991\u001b[1;33m             \u001b[0mpacket_header\u001b[0m \u001b[1;33m=\u001b[0m \u001b[0mself\u001b[0m\u001b[1;33m.\u001b[0m\u001b[0m_read_bytes\u001b[0m\u001b[1;33m(\u001b[0m\u001b[1;36m4\u001b[0m\u001b[1;33m)\u001b[0m\u001b[1;33m\u001b[0m\u001b[0m\n\u001b[0m\u001b[0;32m    992\u001b[0m             \u001b[1;31m#if DEBUG: dump_packet(packet_header)\u001b[0m\u001b[1;33m\u001b[0m\u001b[1;33m\u001b[0m\u001b[0m\n\u001b[0;32m    993\u001b[0m \u001b[1;33m\u001b[0m\u001b[0m\n",
      "\u001b[1;32m~\\Anaconda3\\lib\\site-packages\\pymysql\\connections.py\u001b[0m in \u001b[0;36m_read_bytes\u001b[1;34m(self, num_bytes)\u001b[0m\n\u001b[0;32m   1031\u001b[0m                 raise err.OperationalError(\n\u001b[0;32m   1032\u001b[0m                     \u001b[0mCR\u001b[0m\u001b[1;33m.\u001b[0m\u001b[0mCR_SERVER_LOST\u001b[0m\u001b[1;33m,\u001b[0m\u001b[1;33m\u001b[0m\u001b[0m\n\u001b[1;32m-> 1033\u001b[1;33m                     \"Lost connection to MySQL server during query (%s)\" % (e,))\n\u001b[0m\u001b[0;32m   1034\u001b[0m         \u001b[1;32mif\u001b[0m \u001b[0mlen\u001b[0m\u001b[1;33m(\u001b[0m\u001b[0mdata\u001b[0m\u001b[1;33m)\u001b[0m \u001b[1;33m<\u001b[0m \u001b[0mnum_bytes\u001b[0m\u001b[1;33m:\u001b[0m\u001b[1;33m\u001b[0m\u001b[0m\n\u001b[0;32m   1035\u001b[0m             \u001b[0mself\u001b[0m\u001b[1;33m.\u001b[0m\u001b[0m_force_close\u001b[0m\u001b[1;33m(\u001b[0m\u001b[1;33m)\u001b[0m\u001b[1;33m\u001b[0m\u001b[0m\n",
      "\u001b[1;31mOperationalError\u001b[0m: (2013, 'Lost connection to MySQL server during query ([WinError 10060] 由于连接方在一段时间后没有正确答复或连接的主机没有反应，连接尝试失败。)')"
     ]
    }
   ],
   "source": [
    "#修改upms_system\n",
    "sql = \"UPDATE upms_system SET basepath = '%s' WHERE system_id = 10 \"\n",
    "if devEnv==1:\n",
    "    data = ('http://taskplatform.shanghairongxuan.com:8080/taskplatform')\n",
    "elif devEnv==2:\n",
    "    data = ('http://taskplatform.shanghairongxuan.com:8082/taskplatform')\n",
    "else:\n",
    "    pass\n",
    "\n",
    "cursor1.execute(sql % data)\n",
    "connect1.commit()\n",
    "print('成功修改', cursor1.rowcount, '条数据')"
   ]
  },
  {
   "cell_type": "code",
   "execution_count": 7,
   "metadata": {},
   "outputs": [],
   "source": [
    "#修改PARAM_CONFIG imagesAddress\n",
    "sql = \"UPDATE PARAM_CONFIG SET param_value = '%s' WHERE param_name = 'imagesAddress' \"\n",
    "if devEnv==1:\n",
    "    data = ('http://localhost:8080/aida_clothes_images')\n",
    "elif devEnv==2:\n",
    "    data = ('http://localhost:8082/aida_clothes_images')\n",
    "else:\n",
    "    pass\n",
    "\n",
    "cursor.execute(sql % data)\n",
    "connect.commit()\n",
    "print('成功修改', cursor.rowcount, '条数据')"
   ]
  },
  {
   "cell_type": "code",
   "execution_count": 8,
   "metadata": {},
   "outputs": [],
   "source": [
    "#修改PARAM_CONFIG CB_Recmder_Filepath\n",
    "sql = \"UPDATE PARAM_CONFIG SET param_value = '%s' WHERE param_name = 'CB_Recmder_Filepath' \"\n",
    "if devEnv==1:\n",
    "    data = ('C:/Users/chc51/Documents/NetBeansProjects/aida/python-script/python_ai/CB_Recmder.py')\n",
    "elif devEnv==2:\n",
    "    data = ('/usr/program/python_script/python_ai/CB_Recmder.py')\n",
    "else:\n",
    "    pass\n",
    "\n",
    "cursor.execute(sql % data)\n",
    "connect.commit()\n",
    "print('成功修改', cursor.rowcount, '条数据')"
   ]
  },
  {
   "cell_type": "code",
   "execution_count": 9,
   "metadata": {},
   "outputs": [],
   "source": [
    "#修改log4j配置文件\n",
    "path = basepath + 'log4j.properties'\n",
    "print(path)\n",
    "with open(path) as f:\n",
    "    lines = [x for x in open(path)]\n",
    "\n",
    "newlines = []\n",
    "for line in lines:\n",
    "    if 'log4j.appender.log.File' in line :\n",
    "        pieces = [x.strip() for x in line.split('=')]\n",
    "        print(pieces)\n",
    "        #如果有#，表明已注释掉，跳过\n",
    "        if '#' in pieces[0] :\n",
    "            newlines.append(line)\n",
    "            continue\n",
    "        else :\n",
    "            if devEnv==1:\n",
    "                pieces[1] = 'C:/downloads/tomcat-logs/aida.log'          \n",
    "            elif devEnv==2:\n",
    "                pieces[1] = '../logs/aida.log'\n",
    "            else:\n",
    "                pieces[1] = '../logs/aida.log'\n",
    "        \n",
    "        newline = pieces[0] + ' = ' + pieces[1] + '\\n'\n",
    "        print(newline)\n",
    "        newlines.append(newline)\n",
    "    elif 'log4j.appender.errorlog.File' in line :\n",
    "        pieces = [x.strip() for x in line.split('=')]\n",
    "        print(pieces)\n",
    "        #如果有#，表明已注释掉，跳过\n",
    "        if '#' in pieces[0] :\n",
    "            newlines.append(line)\n",
    "            continue\n",
    "        else :\n",
    "            if devEnv==1:\n",
    "                pieces[1] = 'C:/downloads/tomcat-logs/aida.error.log'          \n",
    "            elif devEnv==2:\n",
    "                pieces[1] = '../logs/aida.error.log'\n",
    "            else:\n",
    "                pieces[1] = '../logs/aida.error.log'\n",
    "        \n",
    "        newline = pieces[0] + ' = ' + pieces[1] + '\\n'\n",
    "        print(newline)\n",
    "        newlines.append(newline)\n",
    "    else :\n",
    "        newlines.append(line)\n",
    "\n",
    "#print(newlines)\n",
    "if len(newlines)>0 :\n",
    "    os.remove(path)\n",
    "    with open(path, 'w') as handle:\n",
    "        handle.writelines(newlines)"
   ]
  },
  {
   "cell_type": "code",
   "execution_count": 10,
   "metadata": {},
   "outputs": [],
   "source": [
    "#修改jdbc配置文件\n",
    "path = basepath + 'jdbc.properties'\n",
    "print(path)\n",
    "with open(path) as f:\n",
    "    lines = [x for x in open(path)]\n",
    "\n",
    "newlines = []\n",
    "for line in lines:\n",
    "    if 'master.jdbc.url' in line :\n",
    "        pieces = [x.strip() for x in line.split('=')]\n",
    "        print(pieces)\n",
    "        #如果有#，表明已注释掉，跳过\n",
    "        if '#' in pieces[0] :\n",
    "            newlines.append(line)\n",
    "            continue\n",
    "        else :\n",
    "            if devEnv==1:\n",
    "                pieces[1] = 'jdbc:mysql://10.0.3.252:3306/aida_bs?characterEncoding=utf8'          \n",
    "            elif devEnv==2:\n",
    "                pieces[1] = 'jdbc:mysql://localhost:3306/aida_bs?characterEncoding=utf8'\n",
    "            else:\n",
    "                pieces[1] = 'jdbc:mysql://localhost:3306/aida_bs?characterEncoding=utf8'\n",
    "        \n",
    "        newline = pieces[0] + ' = ' + pieces[1] + '\\n'\n",
    "        print(newline)\n",
    "        newlines.append(newline)\n",
    "    else :\n",
    "        newlines.append(line)\n",
    "\n",
    "#print(newlines)\n",
    "if len(newlines)>0 :\n",
    "    os.remove(path)\n",
    "    with open(path, 'w') as handle:\n",
    "        handle.writelines(newlines)"
   ]
  },
  {
   "cell_type": "code",
   "execution_count": 11,
   "metadata": {},
   "outputs": [
    {
     "name": "stdout",
     "output_type": "stream",
     "text": [
      "C:/Users/chc51/Documents/NetBeansProjects/aida/src/main/resources/generator.properties\n",
      "['generator.jdbc.url', 'jdbc\\\\:mysql\\\\://10.0.3.252\\\\:3306/aida_bs?useUnicode\\\\', 'true&characterEncoding\\\\', 'utf-8&autoReconnect\\\\', 'true']\n",
      "generator.jdbc.url = jdbc\\:mysql\\://10.0.3.252\\:3306/aida_bs?useUnicode\\=true&characterEncoding\\=utf-8&autoReconnect\\=true\n",
      "\n",
      "['#generator.jdbc.url', 'jdbc\\\\:mysql\\\\://130.198.85.87\\\\:30978/aida_bs?useUnicode\\\\', 'true&characterEncoding\\\\', 'utf-8&autoReconnect\\\\', 'true']\n"
     ]
    }
   ],
   "source": [
    "#修改generator配置文件\n",
    "path = basepath + 'generator.properties'\n",
    "print(path)\n",
    "with open(path) as f:\n",
    "    lines = [x for x in open(path)]\n",
    "\n",
    "newlines = []\n",
    "for line in lines:\n",
    "    if 'generator.jdbc.url' in line :\n",
    "        pieces = [x.strip() for x in line.split('=')]\n",
    "        print(pieces)\n",
    "        #如果有#，表明已注释掉，跳过\n",
    "        if '#' in pieces[0] :\n",
    "            newlines.append(line)\n",
    "            continue\n",
    "        else :\n",
    "            if devEnv==1:\n",
    "                pieces[1] = 'jdbc\\:mysql\\://10.0.3.252\\:3306/aida_bs?useUnicode\\=true&characterEncoding\\=utf-8&autoReconnect\\=true'          \n",
    "            elif devEnv==2:\n",
    "                pieces[1] = 'jdbc\\:mysql\\://localhost\\:3306/aida_bs?useUnicode\\=true&characterEncoding\\=utf-8&autoReconnect\\=true'\n",
    "            else:\n",
    "                pieces[1] = 'jdbc\\:mysql\\://localhost\\:3306/aida_bs?useUnicode\\=true&characterEncoding\\=utf-8&autoReconnect\\=true'\n",
    "        \n",
    "        newline = pieces[0] + ' = ' + pieces[1] + '\\n'\n",
    "        print(newline)\n",
    "        newlines.append(newline)\n",
    "    else :\n",
    "        newlines.append(line)\n",
    "\n",
    "#print(newlines)\n",
    "if len(newlines)>0 :\n",
    "    os.remove(path)\n",
    "    with open(path, 'w') as handle:\n",
    "        handle.writelines(newlines)  "
   ]
  },
  {
   "cell_type": "code",
   "execution_count": 12,
   "metadata": {},
   "outputs": [
    {
     "name": "stdout",
     "output_type": "stream",
     "text": [
      "C:/Users/chc51/Documents/NetBeansProjects/aida/src/main/resources/upms-client.properties\n",
      "['upms.sso.server.url', 'http://localhost:8080/aida']\n",
      "upms.sso.server.url = http://localhost:8080/aida\n",
      "\n"
     ]
    }
   ],
   "source": [
    "#修改upms-client配置文件\n",
    "path = basepath + 'upms-client.properties'\n",
    "print(path)\n",
    "with open(path) as f:\n",
    "    lines = [x for x in open(path)]\n",
    "\n",
    "newlines = []\n",
    "for line in lines:\n",
    "    if 'upms.sso.server.url' in line :\n",
    "        pieces = [x.strip() for x in line.split('=')]\n",
    "        print(pieces)\n",
    "        #如果有#，表明已注释掉，跳过\n",
    "        if '#' in pieces[0] :\n",
    "            newlines.append(line)\n",
    "            continue\n",
    "        else :\n",
    "            if devEnv==1:\n",
    "                pieces[1] = 'http://localhost:8080/aida'          \n",
    "            elif devEnv==2:\n",
    "                pieces[1] = 'http://localhost:8082/aida'\n",
    "            else:\n",
    "                pieces[1] = 'aida.shanghairongxuan.com'\n",
    "        \n",
    "        newline = pieces[0] + ' = ' + pieces[1] + '\\n'\n",
    "        print(newline)\n",
    "        newlines.append(newline)\n",
    "    else :\n",
    "        newlines.append(line)\n",
    "\n",
    "#print(newlines)\n",
    "if len(newlines)>0 :\n",
    "    os.remove(path)\n",
    "    with open(path, 'w') as handle:\n",
    "        handle.writelines(newlines)  "
   ]
  },
  {
   "cell_type": "code",
   "execution_count": 13,
   "metadata": {},
   "outputs": [
    {
     "name": "stdout",
     "output_type": "stream",
     "text": [
      "C:/Users/chc51/Documents/NetBeansProjects/aida/src/main/resources/config.properties\n",
      "['uploadfile.basepath', 'C:/downloads/tomcat-logs']\n",
      "uploadfile.basepath = C:/downloads/tomcat-logs\n",
      "\n"
     ]
    }
   ],
   "source": [
    "#修改config配置文件\n",
    "path = basepath + 'config.properties'\n",
    "print(path)\n",
    "with open(path) as f:\n",
    "    lines = [x for x in open(path)]\n",
    "\n",
    "newlines = []\n",
    "for line in lines:\n",
    "    if 'uploadfile.basepath' in line :\n",
    "        pieces = [x.strip() for x in line.split('=')]\n",
    "        print(pieces)\n",
    "        #如果有#，表明已注释掉，跳过\n",
    "        if '#' in pieces[0] :\n",
    "            newlines.append(line)\n",
    "            continue\n",
    "        else :\n",
    "            if devEnv==1:\n",
    "                pieces[1] = 'C:/downloads/tomcat-logs'          \n",
    "            elif devEnv==2:\n",
    "                pieces[1] = '/var/projectupload'\n",
    "            else:\n",
    "                pieces[1] = '/var/projectupload'\n",
    "        \n",
    "        newline = pieces[0] + ' = ' + pieces[1] + '\\n'\n",
    "        print(newline)\n",
    "        newlines.append(newline)\n",
    "    else :\n",
    "        newlines.append(line)\n",
    "\n",
    "#print(newlines)\n",
    "if len(newlines)>0 :\n",
    "    os.remove(path)\n",
    "    with open(path, 'w') as handle:\n",
    "        handle.writelines(newlines)  "
   ]
  },
  {
   "cell_type": "code",
   "execution_count": 14,
   "metadata": {},
   "outputs": [],
   "source": [
    "# 关闭连接\n",
    "cursor.close()\n",
    "connect.close()"
   ]
  },
  {
   "cell_type": "code",
   "execution_count": null,
   "metadata": {},
   "outputs": [],
   "source": []
  }
 ],
 "metadata": {
  "kernelspec": {
   "display_name": "Python 3",
   "language": "python",
   "name": "python3"
  },
  "language_info": {
   "codemirror_mode": {
    "name": "ipython",
    "version": 3
   },
   "file_extension": ".py",
   "mimetype": "text/x-python",
   "name": "python",
   "nbconvert_exporter": "python",
   "pygments_lexer": "ipython3",
   "version": "3.6.4"
  }
 },
 "nbformat": 4,
 "nbformat_minor": 2
}
